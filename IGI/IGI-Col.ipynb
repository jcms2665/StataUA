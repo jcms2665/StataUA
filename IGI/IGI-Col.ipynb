{
 "cells": [
  {
   "cell_type": "markdown",
   "metadata": {},
   "source": [
    "# IGI-Col 2019"
   ]
  },
  {
   "cell_type": "markdown",
   "metadata": {},
   "source": [
    "A continuación se muestra el código en R y los resultados de la primera versión del IGI-Col 2019. En cada uno de los pasos se hace algunas observaciones que sirven de referencia para el lector. Algunas consideraciones que se deben de tomar en cuenta son:\n",
    "\n",
    "* El análisis del comportamiento de las variables está a cargo del equipo de Colombia y depende de la construcción misma de la base de los datos. En este sentido, a ellos les corresponde definir cuales variables es conveniente que a mayor nivel mejor, y cuales van en sentido contrario.\n",
    "* Es muy importante dar un tratamiento a los *missings*. Lo óptimo es que se imputen a partir del conocimiento de cómo funcionan los departamentos. En el caso donde no exista esta posibilidad, entonces se propone usar una imputación vía **Random Forest**\n",
    "* Al final de la página se muestran los resultados\n"
   ]
  },
  {
   "cell_type": "markdown",
   "metadata": {},
   "source": [
    "El primer paso es validar que todas las librerias estén cargadas, en caso contrario se pueden instalar usando _install.packages(\"  \")_ "
   ]
  },
  {
   "cell_type": "code",
   "execution_count": 2,
   "metadata": {},
   "outputs": [],
   "source": [
    "options(warn=-1)\n",
    "library(FactoMineR)\n",
    "library(VIM)\n",
    "library(ggplot2)\n",
    "library(foreign)  \n",
    "library(grid)\n",
    "library(gridExtra)\n",
    "library(lattice)\n",
    "library(randomForest)\n"
   ]
  },
  {
   "cell_type": "code",
   "execution_count": 3,
   "metadata": {},
   "outputs": [],
   "source": [
    "setwd(\"C:/Users/jmartinez/Desktop/IGI-Col\")\n",
    "d <- read.csv(\"IGI1.csv\", sep=\";\", dec=\",\", header=TRUE)"
   ]
  },
  {
   "cell_type": "markdown",
   "metadata": {},
   "source": [
    "Vale la pena mirar el contenido de la base para saber su estructura"
   ]
  },
  {
   "cell_type": "code",
   "execution_count": 6,
   "metadata": {},
   "outputs": [
    {
     "data": {
      "text/html": [
       "<table>\n",
       "<thead><tr><th scope=col>Cod_DANE_Dep</th><th scope=col>Nombre_Departamento</th><th scope=col>Año</th><th scope=col>PersonalFiscalia.x100mil</th><th scope=col>UnidadesFiscalíax100mil</th><th scope=col>PorcUnidadesFiscalíaDelitosGraves</th><th scope=col>AgentesFiscaliax1milDelitos</th><th scope=col>CTIx100mil</th><th scope=col>PersonalSeguridadPublicax100mil</th><th scope=col>MagistradosJuecesx100mil</th><th scope=col>...</th><th scope=col>Delitos.por.departamento</th><th scope=col>Capacidad.Instalada.Cárceles</th><th scope=col>DesaparicionForzadax100mil</th><th scope=col>Ejecuciones.extrajudiciales</th><th scope=col>Tortura</th><th scope=col>Extorción</th><th scope=col>Secuestro</th><th scope=col>reclusosxCapacidadInstalada</th><th scope=col>ReclusosHomicidioxhomicidios</th><th scope=col>Cifra.negra.Porcentaje</th></tr></thead>\n",
       "<tbody>\n",
       "\t<tr><td> 5        </td><td>ANTIOQUIA </td><td>2016      </td><td> 9.32     </td><td>2.922788  </td><td> 8.900524 </td><td> 5.227827 </td><td> 9.380465 </td><td>105.74065 </td><td> 9.12     </td><td>...       </td><td>116492    </td><td> 8118     </td><td> 6.72     </td><td>0         </td><td>4         </td><td>664       </td><td>37        </td><td>1.787017  </td><td> 1.641377 </td><td>11.909912 </td></tr>\n",
       "\t<tr><td> 8        </td><td>ATLANTICO </td><td>2016      </td><td>27.96     </td><td>1.245223  </td><td>19.354839 </td><td>18.089198 </td><td> 9.439593 </td><td>243.82269 </td><td> 8.19     </td><td>...       </td><td> 38476    </td><td> 1144     </td><td> 7.55     </td><td>0         </td><td>0         </td><td>137       </td><td> 0        </td><td>2.288462  </td><td> 1.519795 </td><td> 9.307669 </td></tr>\n",
       "\t<tr><td>11        </td><td>BOGOTA D.C</td><td>2016      </td><td>32.81     </td><td>1.641604  </td><td>31.297710 </td><td>       NA </td><td>10.701753 </td><td> 28.82205 </td><td> 7.69     </td><td>...       </td><td>    NA    </td><td>10166     </td><td>42.18     </td><td>0         </td><td>0         </td><td>430       </td><td>25        </td><td>1.487311  </td><td> 2.749674 </td><td>18.565681 </td></tr>\n",
       "\t<tr><td>13        </td><td>BOLIVAR   </td><td>2016      </td><td>20.97     </td><td>2.026432  </td><td> 6.976744 </td><td>16.151864 </td><td> 6.503434 </td><td>205.94206 </td><td> 8.20     </td><td>...       </td><td> 27551    </td><td> 1442     </td><td> 2.21     </td><td>0         </td><td>0         </td><td>161       </td><td> 3        </td><td>1.583218  </td><td> 1.143044 </td><td> 7.411774 </td></tr>\n",
       "\t<tr><td>15        </td><td>BOYACA    </td><td>2016      </td><td>47.10     </td><td>5.711572  </td><td> 8.219178 </td><td>27.863920 </td><td>18.621289 </td><td>517.17110 </td><td>19.64     </td><td>...       </td><td> 21605    </td><td> 4551     </td><td> 9.86     </td><td>0         </td><td>0         </td><td> 77       </td><td> 1        </td><td>1.245660  </td><td>25.946228 </td><td>13.301976 </td></tr>\n",
       "</tbody>\n",
       "</table>\n"
      ],
      "text/latex": [
       "\\begin{tabular}{r|llllllllllllllllllllllllllllllllllllllll}\n",
       " Cod\\_DANE\\_Dep & Nombre\\_Departamento & Año & PersonalFiscalia.x100mil & UnidadesFiscalíax100mil & PorcUnidadesFiscalíaDelitosGraves & AgentesFiscaliax1milDelitos & CTIx100mil & PersonalSeguridadPublicax100mil & MagistradosJuecesx100mil & ... & Delitos.por.departamento & Capacidad.Instalada.Cárceles & DesaparicionForzadax100mil & Ejecuciones.extrajudiciales & Tortura & Extorción & Secuestro & reclusosxCapacidadInstalada & ReclusosHomicidioxhomicidios & Cifra.negra.Porcentaje\\\\\n",
       "\\hline\n",
       "\t  5         & ANTIOQUIA  & 2016       &  9.32      & 2.922788   &  8.900524  &  5.227827  &  9.380465  & 105.74065  &  9.12      & ...        & 116492     &  8118      &  6.72      & 0          & 4          & 664        & 37         & 1.787017   &  1.641377  & 11.909912 \\\\\n",
       "\t  8         & ATLANTICO  & 2016       & 27.96      & 1.245223   & 19.354839  & 18.089198  &  9.439593  & 243.82269  &  8.19      & ...        &  38476     &  1144      &  7.55      & 0          & 0          & 137        &  0         & 2.288462   &  1.519795  &  9.307669 \\\\\n",
       "\t 11         & BOGOTA D.C & 2016       & 32.81      & 1.641604   & 31.297710  &        NA  & 10.701753  &  28.82205  &  7.69      & ...        &     NA     & 10166      & 42.18      & 0          & 0          & 430        & 25         & 1.487311   &  2.749674  & 18.565681 \\\\\n",
       "\t 13         & BOLIVAR    & 2016       & 20.97      & 2.026432   &  6.976744  & 16.151864  &  6.503434  & 205.94206  &  8.20      & ...        &  27551     &  1442      &  2.21      & 0          & 0          & 161        &  3         & 1.583218   &  1.143044  &  7.411774 \\\\\n",
       "\t 15         & BOYACA     & 2016       & 47.10      & 5.711572   &  8.219178  & 27.863920  & 18.621289  & 517.17110  & 19.64      & ...        &  21605     &  4551      &  9.86      & 0          & 0          &  77        &  1         & 1.245660   & 25.946228  & 13.301976 \\\\\n",
       "\\end{tabular}\n"
      ],
      "text/markdown": [
       "\n",
       "Cod_DANE_Dep | Nombre_Departamento | Año | PersonalFiscalia.x100mil | UnidadesFiscalíax100mil | PorcUnidadesFiscalíaDelitosGraves | AgentesFiscaliax1milDelitos | CTIx100mil | PersonalSeguridadPublicax100mil | MagistradosJuecesx100mil | ... | Delitos.por.departamento | Capacidad.Instalada.Cárceles | DesaparicionForzadax100mil | Ejecuciones.extrajudiciales | Tortura | Extorción | Secuestro | reclusosxCapacidadInstalada | ReclusosHomicidioxhomicidios | Cifra.negra.Porcentaje | \n",
       "|---|---|---|---|---|\n",
       "|  5         | ANTIOQUIA  | 2016       |  9.32      | 2.922788   |  8.900524  |  5.227827  |  9.380465  | 105.74065  |  9.12      | ...        | 116492     |  8118      |  6.72      | 0          | 4          | 664        | 37         | 1.787017   |  1.641377  | 11.909912  | \n",
       "|  8         | ATLANTICO  | 2016       | 27.96      | 1.245223   | 19.354839  | 18.089198  |  9.439593  | 243.82269  |  8.19      | ...        |  38476     |  1144      |  7.55      | 0          | 0          | 137        |  0         | 2.288462   |  1.519795  |  9.307669  | \n",
       "| 11         | BOGOTA D.C | 2016       | 32.81      | 1.641604   | 31.297710  |        NA  | 10.701753  |  28.82205  |  7.69      | ...        |     NA     | 10166      | 42.18      | 0          | 0          | 430        | 25         | 1.487311   |  2.749674  | 18.565681  | \n",
       "| 13         | BOLIVAR    | 2016       | 20.97      | 2.026432   |  6.976744  | 16.151864  |  6.503434  | 205.94206  |  8.20      | ...        |  27551     |  1442      |  2.21      | 0          | 0          | 161        |  3         | 1.583218   |  1.143044  |  7.411774  | \n",
       "| 15         | BOYACA     | 2016       | 47.10      | 5.711572   |  8.219178  | 27.863920  | 18.621289  | 517.17110  | 19.64      | ...        |  21605     |  4551      |  9.86      | 0          | 0          |  77        |  1         | 1.245660   | 25.946228  | 13.301976  | \n",
       "\n",
       "\n"
      ],
      "text/plain": [
       "  Cod_DANE_Dep Nombre_Departamento Año  PersonalFiscalia.x100mil\n",
       "1  5           ANTIOQUIA           2016  9.32                   \n",
       "2  8           ATLANTICO           2016 27.96                   \n",
       "3 11           BOGOTA D.C          2016 32.81                   \n",
       "4 13           BOLIVAR             2016 20.97                   \n",
       "5 15           BOYACA              2016 47.10                   \n",
       "  UnidadesFiscalíax100mil PorcUnidadesFiscalíaDelitosGraves\n",
       "1 2.922788                 8.900524                        \n",
       "2 1.245223                19.354839                        \n",
       "3 1.641604                31.297710                        \n",
       "4 2.026432                 6.976744                        \n",
       "5 5.711572                 8.219178                        \n",
       "  AgentesFiscaliax1milDelitos CTIx100mil PersonalSeguridadPublicax100mil\n",
       "1  5.227827                    9.380465  105.74065                      \n",
       "2 18.089198                    9.439593  243.82269                      \n",
       "3        NA                   10.701753   28.82205                      \n",
       "4 16.151864                    6.503434  205.94206                      \n",
       "5 27.863920                   18.621289  517.17110                      \n",
       "  MagistradosJuecesx100mil ... Delitos.por.departamento\n",
       "1  9.12                    ... 116492                  \n",
       "2  8.19                    ...  38476                  \n",
       "3  7.69                    ...     NA                  \n",
       "4  8.20                    ...  27551                  \n",
       "5 19.64                    ...  21605                  \n",
       "  Capacidad.Instalada.Cárceles DesaparicionForzadax100mil\n",
       "1  8118                         6.72                     \n",
       "2  1144                         7.55                     \n",
       "3 10166                        42.18                     \n",
       "4  1442                         2.21                     \n",
       "5  4551                         9.86                     \n",
       "  Ejecuciones.extrajudiciales Tortura Extorción Secuestro\n",
       "1 0                           4       664       37       \n",
       "2 0                           0       137        0       \n",
       "3 0                           0       430       25       \n",
       "4 0                           0       161        3       \n",
       "5 0                           0        77        1       \n",
       "  reclusosxCapacidadInstalada ReclusosHomicidioxhomicidios\n",
       "1 1.787017                     1.641377                   \n",
       "2 2.288462                     1.519795                   \n",
       "3 1.487311                     2.749674                   \n",
       "4 1.583218                     1.143044                   \n",
       "5 1.245660                    25.946228                   \n",
       "  Cifra.negra.Porcentaje\n",
       "1 11.909912             \n",
       "2  9.307669             \n",
       "3 18.565681             \n",
       "4  7.411774             \n",
       "5 13.301976             "
      ]
     },
     "metadata": {},
     "output_type": "display_data"
    }
   ],
   "source": [
    "head(d,5)"
   ]
  },
  {
   "cell_type": "markdown",
   "metadata": {},
   "source": [
    "Se recomienda ver el comportamiento general de las variables, para ello se puede usar el siguiente código:"
   ]
  },
  {
   "cell_type": "code",
   "execution_count": 10,
   "metadata": {},
   "outputs": [
    {
     "ename": "ERROR",
     "evalue": "Error in parse(text = x, srcfile = src): <text>:1:4: unexpected symbol\n1: Se recomienda\n       ^\n",
     "output_type": "error",
     "traceback": [
      "Error in parse(text = x, srcfile = src): <text>:1:4: unexpected symbol\n1: Se recomienda\n       ^\nTraceback:\n"
     ]
    }
   ],
   "source": [
    "\n",
    "  plot.new()\n",
    "  get( getOption( \"device\" ) )()\n",
    "  par(mfrow=c(5,8))\n",
    "  for (i in 4:40){\n",
    "  hist(d[,i],xlab = names(d)[i],main = \"\", col=\"peachpuff\", border=\"black\")\n",
    "  }\n"
   ]
  },
  {
   "cell_type": "markdown",
   "metadata": {},
   "source": [
    "![](https://user-images.githubusercontent.com/13545121/52171451-ff78f800-2722-11e9-9ddf-cb9048d47690.PNG)"
   ]
  },
  {
   "cell_type": "markdown",
   "metadata": {},
   "source": [
    "## PASO 0. Valores perdidos"
   ]
  },
  {
   "cell_type": "markdown",
   "metadata": {},
   "source": [
    "Es importante e identificar los valores perdidos, lo ideal es completarlos a partir de la información disponible y sabiendo el comportamiento en la región."
   ]
  },
  {
   "cell_type": "markdown",
   "metadata": {},
   "source": [
    "Sin embargo, puede darse el caso de que haya variables que aún tengan valores perdidos. A fin de solventar esta situación y poder desarrollar el análisis, se usa el modelo de clasificación denominado como **random forest** para imputar los valores perdidos. La lógica es crear muestras aleatorias con reemplazo para detectar patrones y posteriormente unir los resultados. Una virtud que tiene este tipo de clasificadores es que pertenecen al grupo de los denominados algoritmos supervisados, característica que los hacen más eficientes ya que van aprendiendo sobre por medio de las iteraciones."
   ]
  },
  {
   "cell_type": "markdown",
   "metadata": {},
   "source": [
    "Primero, hay que identificar las variables que tienen problemas de *missings*"
   ]
  },
  {
   "cell_type": "code",
   "execution_count": 7,
   "metadata": {},
   "outputs": [
    {
     "data": {
      "text/html": [
       "<ol class=list-inline>\n",
       "\t<li>'AgentesFiscaliax1milDelitos'</li>\n",
       "\t<li>'PersonalPenitenciarioxCapacidad'</li>\n",
       "\t<li>'Delitos.por.departamento'</li>\n",
       "\t<li>'Capacidad.Instalada.Cárceles'</li>\n",
       "</ol>\n"
      ],
      "text/latex": [
       "\\begin{enumerate*}\n",
       "\\item 'AgentesFiscaliax1milDelitos'\n",
       "\\item 'PersonalPenitenciarioxCapacidad'\n",
       "\\item 'Delitos.por.departamento'\n",
       "\\item 'Capacidad.Instalada.Cárceles'\n",
       "\\end{enumerate*}\n"
      ],
      "text/markdown": [
       "1. 'AgentesFiscaliax1milDelitos'\n",
       "2. 'PersonalPenitenciarioxCapacidad'\n",
       "3. 'Delitos.por.departamento'\n",
       "4. 'Capacidad.Instalada.Cárceles'\n",
       "\n",
       "\n"
      ],
      "text/plain": [
       "[1] \"AgentesFiscaliax1milDelitos\"     \"PersonalPenitenciarioxCapacidad\"\n",
       "[3] \"Delitos.por.departamento\"        \"Capacidad.Instalada.Cárceles\"   "
      ]
     },
     "metadata": {},
     "output_type": "display_data"
    }
   ],
   "source": [
    "names(d[,names(d)%in%colnames(d)[colSums(is.na(d)) > 0], drop = F])"
   ]
  },
  {
   "cell_type": "markdown",
   "metadata": {},
   "source": [
    "Luego se usa el algoritmo de **random forest** usando como variable objetivo alguna variable que no tenga *missings*"
   ]
  },
  {
   "cell_type": "code",
   "execution_count": 8,
   "metadata": {},
   "outputs": [
    {
     "name": "stdout",
     "output_type": "stream",
     "text": [
      "     |      Out-of-bag   |\n",
      "Tree |      MSE  %Var(y) |\n",
      " 300 |    3.498    52.38 |\n",
      "     |      Out-of-bag   |\n",
      "Tree |      MSE  %Var(y) |\n",
      " 300 |    3.514    52.63 |\n",
      "     |      Out-of-bag   |\n",
      "Tree |      MSE  %Var(y) |\n",
      " 300 |    3.455    51.74 |\n",
      "     |      Out-of-bag   |\n",
      "Tree |      MSE  %Var(y) |\n",
      " 300 |    3.547    53.13 |\n",
      "     |      Out-of-bag   |\n",
      "Tree |      MSE  %Var(y) |\n",
      " 300 |    3.458    51.79 |\n",
      "     |      Out-of-bag   |\n",
      "Tree |      MSE  %Var(y) |\n",
      " 300 |    3.375    50.55 |\n",
      "     |      Out-of-bag   |\n",
      "Tree |      MSE  %Var(y) |\n",
      " 300 |    3.747    56.12 |\n",
      "     |      Out-of-bag   |\n",
      "Tree |      MSE  %Var(y) |\n",
      " 300 |    3.404    50.98 |\n",
      "     |      Out-of-bag   |\n",
      "Tree |      MSE  %Var(y) |\n",
      " 300 |     3.74    56.01 |\n",
      "     |      Out-of-bag   |\n",
      "Tree |      MSE  %Var(y) |\n",
      " 300 |    3.561    53.34 |\n",
      "     |      Out-of-bag   |\n",
      "Tree |      MSE  %Var(y) |\n",
      " 300 |    3.747    56.11 |\n",
      "     |      Out-of-bag   |\n",
      "Tree |      MSE  %Var(y) |\n",
      " 300 |    3.327    49.83 |\n",
      "     |      Out-of-bag   |\n",
      "Tree |      MSE  %Var(y) |\n",
      " 300 |    3.676    55.05 |\n",
      "     |      Out-of-bag   |\n",
      "Tree |      MSE  %Var(y) |\n",
      " 300 |    3.794    56.82 |\n",
      "     |      Out-of-bag   |\n",
      "Tree |      MSE  %Var(y) |\n",
      " 300 |    3.547    53.12 |\n"
     ]
    }
   ],
   "source": [
    "d <- rfImpute(UnidadesFiscalíax100mil ~ ., d,iter=15)"
   ]
  },
  {
   "cell_type": "markdown",
   "metadata": {},
   "source": [
    "Se usan 15 iteraciones de modo que el algoritmo vaya aprendiendo sobre la marcha y mejore la precisión. La lógica es identificar casos en donde se tenga un mismo patron que las variables donde hay missings. Para validar que los casos sean iguales, toma en cuenta todas las variables"
   ]
  },
  {
   "cell_type": "markdown",
   "metadata": {},
   "source": [
    "## PASO 1. Construcción de las dimensiones"
   ]
  },
  {
   "cell_type": "markdown",
   "metadata": {},
   "source": [
    "Una vez que ya no se tienen *missings*, se construyen las dimensiones"
   ]
  },
  {
   "cell_type": "code",
   "execution_count": 9,
   "metadata": {},
   "outputs": [],
   "source": [
    "datos<-d\n",
    "datos2 <- datos[,-c(1,2,3,14,23:32,34)]\n",
    "  \n",
    "#  x <- datos2[,1]\n",
    "  \n",
    "  #transformación de las variables min-max para que queden en escala 0 a 100\n",
    "  \n",
    "  MiniMax <- function(x){\n",
    "    \n",
    "    a <- min(x,na.rm = TRUE)\n",
    "    b <- max(x,na.rm = TRUE)\n",
    "    \n",
    "    y <- (((x-a)/(b-a))*(100-0))+0\n",
    "    y\n",
    "  }\n",
    "  \n",
    " # MiniMax(x)\n",
    "  \n",
    "  \n",
    "  "
   ]
  },
  {
   "cell_type": "markdown",
   "metadata": {},
   "source": [
    "La definición de las variables en donde el valor mayor implica una mejor situación y viceversa, depende del equipo de Colombia en función de cómo se capta la información, por lo que se asume que este análisis teórico ya está hecho."
   ]
  },
  {
   "cell_type": "code",
   "execution_count": 10,
   "metadata": {},
   "outputs": [],
   "source": [
    "datos3 <- apply(datos2,2,MiniMax)\n",
    "  datos3 <- data.frame(datos3)\n",
    "  datos3$PorcentajeReclusosSinSentencia1Instancia <- 100-datos3$PorcentajeReclusosSinSentencia1Instancia\n",
    "  datos3$CausasPenales1InstanciaxInvestigaciones <- 100-datos3$CausasPenales1InstanciaxInvestigaciones\n",
    "  datos3$PersonalPenitenciarioxCapacidad <- 100-datos3$PersonalPenitenciarioxCapacidad\n",
    "  datos3$Cifra.negra.Porcentaje <- 100-datos3$Cifra.negra.Porcentaje\n",
    "  datos3$reclusosxCapacidadInstalada <- 100-datos3$reclusosxCapacidadInstalada\n",
    "  datos3$PresuntosDelitosx100mil <- 100-datos3$PresuntosDelitosx100mil\n"
   ]
  },
  {
   "cell_type": "markdown",
   "metadata": {},
   "source": [
    "## PASO 2. Construcción del índice bajo la lógica de un índice sumatorio\n"
   ]
  },
  {
   "cell_type": "code",
   "execution_count": 12,
   "metadata": {},
   "outputs": [],
   "source": [
    "  ESS <- datos3[,c(1,2,3,4,5,6)]\n",
    "  ESJ <- datos3[,c(7,8,9)] #aqui faltan dos variables\n",
    "  \n",
    "  FSS <- datos3[,c(10,12,14)]\n",
    "  FSJ <- datos3[,c(15,16,18)]\n",
    "  \n",
    "  CN <- as.matrix(datos3[,c(25)])\n",
    "\n",
    "  \n",
    "  \n",
    "  ESS <- rowMeans(ESS, na.rm = TRUE)\n",
    "  ESJ <- rowMeans(ESJ, na.rm = TRUE)\n",
    "  FSS <- rowMeans(FSS, na.rm = TRUE)\n",
    "  FSJ <- rowMeans(FSJ, na.rm = TRUE)\n",
    "  #CN <- rowMeans(CN, na.rm = TRUE)\n",
    "\n",
    "  IGI <- (ESS+ESJ+FSS+FSJ+CN)/5   \n"
   ]
  },
  {
   "cell_type": "markdown",
   "metadata": {},
   "source": [
    "## PASO 3. Análisis de los resultados"
   ]
  },
  {
   "cell_type": "markdown",
   "metadata": {},
   "source": [
    "Finalmente, se unen las dimensiones a la base de datos original"
   ]
  },
  {
   "cell_type": "code",
   "execution_count": 30,
   "metadata": {},
   "outputs": [
    {
     "data": {
      "text/html": [
       "<table>\n",
       "<thead><tr><th scope=col>Nombre_Departamento</th><th scope=col>ESS</th><th scope=col>ESJ</th><th scope=col>FSS</th><th scope=col>FSJ</th><th scope=col>IGI</th></tr></thead>\n",
       "<tbody>\n",
       "\t<tr><td>ANTIOQUIA               </td><td>15.737177               </td><td>62.667357               </td><td>40.11952                </td><td>63.36174                </td><td>47.69448                </td></tr>\n",
       "\t<tr><td>ATLANTICO               </td><td>29.763131               </td><td>34.926158               </td><td>69.35328                </td><td>48.34637                </td><td>50.08785                </td></tr>\n",
       "\t<tr><td>BOGOTA D.C              </td><td>39.558968               </td><td>66.999560               </td><td>84.44444                </td><td>54.12590                </td><td>54.47892                </td></tr>\n",
       "\t<tr><td>BOLIVAR                 </td><td>17.681686               </td><td>46.165338               </td><td>61.76776                </td><td>52.28792                </td><td>50.86102                </td></tr>\n",
       "\t<tr><td>BOYACA                  </td><td>37.517638               </td><td>66.882427               </td><td>83.74707                </td><td>74.12930                </td><td>62.54610                </td></tr>\n",
       "\t<tr><td>CALDAS                  </td><td>36.065591               </td><td>53.949097               </td><td>71.32097                </td><td>65.92399                </td><td>55.07199                </td></tr>\n",
       "\t<tr><td>CAQUETA                 </td><td>44.190981               </td><td>48.349265               </td><td>58.86477                </td><td>67.12568                </td><td>51.46563                </td></tr>\n",
       "\t<tr><td>CAUCA                   </td><td>26.812556               </td><td>49.686521               </td><td>64.37373                </td><td>63.05087                </td><td>48.26611                </td></tr>\n",
       "\t<tr><td>CESAR                   </td><td>25.516065               </td><td>44.779872               </td><td>68.44323                </td><td>59.27420                </td><td>46.33671                </td></tr>\n",
       "\t<tr><td>CORDOBA                 </td><td>18.065694               </td><td>44.614519               </td><td>55.31664                </td><td>63.43141                </td><td>48.82851                </td></tr>\n",
       "\t<tr><td>CUNDINAMARCA            </td><td>26.235853               </td><td>51.737642               </td><td>42.01559                </td><td>63.97332                </td><td>44.93869                </td></tr>\n",
       "\t<tr><td>CHOCO                   </td><td>38.925460               </td><td>42.527816               </td><td>61.29576                </td><td>53.70257                </td><td>54.55615                </td></tr>\n",
       "\t<tr><td>HUILA                   </td><td>51.940689               </td><td>49.250467               </td><td>61.05441                </td><td>57.93675                </td><td>55.05983                </td></tr>\n",
       "\t<tr><td>LA GUAJIRA              </td><td>19.992192               </td><td> 8.292501               </td><td>56.21947                </td><td>31.86252                </td><td>33.77127                </td></tr>\n",
       "\t<tr><td>MAGDALENA               </td><td>25.092504               </td><td>28.329435               </td><td>56.00824                </td><td>49.64483                </td><td>46.26166                </td></tr>\n",
       "\t<tr><td>META                    </td><td>53.856874               </td><td>56.503879               </td><td>72.04387                </td><td>71.16007                </td><td>58.47243                </td></tr>\n",
       "\t<tr><td>NARIÑO                  </td><td>28.781744               </td><td>40.788151               </td><td>52.60085                </td><td>52.86548                </td><td>35.00724                </td></tr>\n",
       "\t<tr><td>NORTE DE SANTANDER      </td><td>35.674352               </td><td>51.303513               </td><td>61.17783                </td><td>64.64712                </td><td>51.07067                </td></tr>\n",
       "\t<tr><td>QUINDIO                 </td><td>54.945366               </td><td>47.608539               </td><td>56.67583                </td><td>56.67753                </td><td>54.19296                </td></tr>\n",
       "\t<tr><td>RISARALDA               </td><td>52.101128               </td><td>40.907531               </td><td>52.96066                </td><td>52.99455                </td><td>52.31648                </td></tr>\n",
       "\t<tr><td>SANTANDER               </td><td>36.314212               </td><td>59.916965               </td><td>67.76801                </td><td>59.13006                </td><td>60.40892                </td></tr>\n",
       "\t<tr><td>SUCRE                   </td><td>25.524871               </td><td>40.436481               </td><td>57.87486                </td><td>48.62026                </td><td>49.01263                </td></tr>\n",
       "\t<tr><td>TOLIMA                  </td><td>40.993609               </td><td>62.064365               </td><td>66.76848                </td><td>70.71326                </td><td>57.56709                </td></tr>\n",
       "\t<tr><td>VALLE DEL CAUCA         </td><td>30.946204               </td><td>64.769748               </td><td>52.55505                </td><td>75.94093                </td><td>56.36251                </td></tr>\n",
       "\t<tr><td>ARAUCA                  </td><td>47.320505               </td><td>35.667079               </td><td>51.86618                </td><td>54.74373                </td><td>45.67899                </td></tr>\n",
       "\t<tr><td>CASANARE                </td><td>40.632950               </td><td>50.101411               </td><td>64.93418                </td><td>64.69558                </td><td>51.83232                </td></tr>\n",
       "\t<tr><td>PUTUMAYO                </td><td>27.017097               </td><td>41.322309               </td><td>46.55189                </td><td>53.72538                </td><td>41.48283                </td></tr>\n",
       "\t<tr><td>SAN ANDRES Y PROVIDENCIA</td><td>36.074791               </td><td>58.396887               </td><td>58.93001                </td><td>52.25395                </td><td>61.13113                </td></tr>\n",
       "\t<tr><td>AMAZONAS                </td><td>19.585560               </td><td>22.453929               </td><td>44.82363                </td><td>53.82231                </td><td>35.89658                </td></tr>\n",
       "\t<tr><td>GUAINIA                 </td><td> 4.179053               </td><td>36.751620               </td><td>33.26850                </td><td>66.63543                </td><td>35.92641                </td></tr>\n",
       "\t<tr><td>GUAVIARE                </td><td>39.666285               </td><td>32.828789               </td><td>33.04913                </td><td>66.25101                </td><td>42.11854                </td></tr>\n",
       "\t<tr><td>VAUPES                  </td><td>23.965132               </td><td>42.133147               </td><td>33.30028                </td><td>66.66667                </td><td>40.97254                </td></tr>\n",
       "\t<tr><td>VICHADA                 </td><td>25.234072               </td><td>37.461436               </td><td>33.23622                </td><td>66.54332                </td><td>40.25450                </td></tr>\n",
       "</tbody>\n",
       "</table>\n"
      ],
      "text/latex": [
       "\\begin{tabular}{r|llllll}\n",
       " Nombre\\_Departamento & ESS & ESJ & FSS & FSJ & IGI\\\\\n",
       "\\hline\n",
       "\t ANTIOQUIA                & 15.737177                & 62.667357                & 40.11952                 & 63.36174                 & 47.69448                \\\\\n",
       "\t ATLANTICO                & 29.763131                & 34.926158                & 69.35328                 & 48.34637                 & 50.08785                \\\\\n",
       "\t BOGOTA D.C               & 39.558968                & 66.999560                & 84.44444                 & 54.12590                 & 54.47892                \\\\\n",
       "\t BOLIVAR                  & 17.681686                & 46.165338                & 61.76776                 & 52.28792                 & 50.86102                \\\\\n",
       "\t BOYACA                   & 37.517638                & 66.882427                & 83.74707                 & 74.12930                 & 62.54610                \\\\\n",
       "\t CALDAS                   & 36.065591                & 53.949097                & 71.32097                 & 65.92399                 & 55.07199                \\\\\n",
       "\t CAQUETA                  & 44.190981                & 48.349265                & 58.86477                 & 67.12568                 & 51.46563                \\\\\n",
       "\t CAUCA                    & 26.812556                & 49.686521                & 64.37373                 & 63.05087                 & 48.26611                \\\\\n",
       "\t CESAR                    & 25.516065                & 44.779872                & 68.44323                 & 59.27420                 & 46.33671                \\\\\n",
       "\t CORDOBA                  & 18.065694                & 44.614519                & 55.31664                 & 63.43141                 & 48.82851                \\\\\n",
       "\t CUNDINAMARCA             & 26.235853                & 51.737642                & 42.01559                 & 63.97332                 & 44.93869                \\\\\n",
       "\t CHOCO                    & 38.925460                & 42.527816                & 61.29576                 & 53.70257                 & 54.55615                \\\\\n",
       "\t HUILA                    & 51.940689                & 49.250467                & 61.05441                 & 57.93675                 & 55.05983                \\\\\n",
       "\t LA GUAJIRA               & 19.992192                &  8.292501                & 56.21947                 & 31.86252                 & 33.77127                \\\\\n",
       "\t MAGDALENA                & 25.092504                & 28.329435                & 56.00824                 & 49.64483                 & 46.26166                \\\\\n",
       "\t META                     & 53.856874                & 56.503879                & 72.04387                 & 71.16007                 & 58.47243                \\\\\n",
       "\t NARIÑO                   & 28.781744                & 40.788151                & 52.60085                 & 52.86548                 & 35.00724                \\\\\n",
       "\t NORTE DE SANTANDER       & 35.674352                & 51.303513                & 61.17783                 & 64.64712                 & 51.07067                \\\\\n",
       "\t QUINDIO                  & 54.945366                & 47.608539                & 56.67583                 & 56.67753                 & 54.19296                \\\\\n",
       "\t RISARALDA                & 52.101128                & 40.907531                & 52.96066                 & 52.99455                 & 52.31648                \\\\\n",
       "\t SANTANDER                & 36.314212                & 59.916965                & 67.76801                 & 59.13006                 & 60.40892                \\\\\n",
       "\t SUCRE                    & 25.524871                & 40.436481                & 57.87486                 & 48.62026                 & 49.01263                \\\\\n",
       "\t TOLIMA                   & 40.993609                & 62.064365                & 66.76848                 & 70.71326                 & 57.56709                \\\\\n",
       "\t VALLE DEL CAUCA          & 30.946204                & 64.769748                & 52.55505                 & 75.94093                 & 56.36251                \\\\\n",
       "\t ARAUCA                   & 47.320505                & 35.667079                & 51.86618                 & 54.74373                 & 45.67899                \\\\\n",
       "\t CASANARE                 & 40.632950                & 50.101411                & 64.93418                 & 64.69558                 & 51.83232                \\\\\n",
       "\t PUTUMAYO                 & 27.017097                & 41.322309                & 46.55189                 & 53.72538                 & 41.48283                \\\\\n",
       "\t SAN ANDRES Y PROVIDENCIA & 36.074791                & 58.396887                & 58.93001                 & 52.25395                 & 61.13113                \\\\\n",
       "\t AMAZONAS                 & 19.585560                & 22.453929                & 44.82363                 & 53.82231                 & 35.89658                \\\\\n",
       "\t GUAINIA                  &  4.179053                & 36.751620                & 33.26850                 & 66.63543                 & 35.92641                \\\\\n",
       "\t GUAVIARE                 & 39.666285                & 32.828789                & 33.04913                 & 66.25101                 & 42.11854                \\\\\n",
       "\t VAUPES                   & 23.965132                & 42.133147                & 33.30028                 & 66.66667                 & 40.97254                \\\\\n",
       "\t VICHADA                  & 25.234072                & 37.461436                & 33.23622                 & 66.54332                 & 40.25450                \\\\\n",
       "\\end{tabular}\n"
      ],
      "text/markdown": [
       "\n",
       "Nombre_Departamento | ESS | ESJ | FSS | FSJ | IGI | \n",
       "|---|---|---|---|---|---|---|---|---|---|---|---|---|---|---|---|---|---|---|---|---|---|---|---|---|---|---|---|---|---|---|---|---|\n",
       "| ANTIOQUIA                | 15.737177                | 62.667357                | 40.11952                 | 63.36174                 | 47.69448                 | \n",
       "| ATLANTICO                | 29.763131                | 34.926158                | 69.35328                 | 48.34637                 | 50.08785                 | \n",
       "| BOGOTA D.C               | 39.558968                | 66.999560                | 84.44444                 | 54.12590                 | 54.47892                 | \n",
       "| BOLIVAR                  | 17.681686                | 46.165338                | 61.76776                 | 52.28792                 | 50.86102                 | \n",
       "| BOYACA                   | 37.517638                | 66.882427                | 83.74707                 | 74.12930                 | 62.54610                 | \n",
       "| CALDAS                   | 36.065591                | 53.949097                | 71.32097                 | 65.92399                 | 55.07199                 | \n",
       "| CAQUETA                  | 44.190981                | 48.349265                | 58.86477                 | 67.12568                 | 51.46563                 | \n",
       "| CAUCA                    | 26.812556                | 49.686521                | 64.37373                 | 63.05087                 | 48.26611                 | \n",
       "| CESAR                    | 25.516065                | 44.779872                | 68.44323                 | 59.27420                 | 46.33671                 | \n",
       "| CORDOBA                  | 18.065694                | 44.614519                | 55.31664                 | 63.43141                 | 48.82851                 | \n",
       "| CUNDINAMARCA             | 26.235853                | 51.737642                | 42.01559                 | 63.97332                 | 44.93869                 | \n",
       "| CHOCO                    | 38.925460                | 42.527816                | 61.29576                 | 53.70257                 | 54.55615                 | \n",
       "| HUILA                    | 51.940689                | 49.250467                | 61.05441                 | 57.93675                 | 55.05983                 | \n",
       "| LA GUAJIRA               | 19.992192                |  8.292501                | 56.21947                 | 31.86252                 | 33.77127                 | \n",
       "| MAGDALENA                | 25.092504                | 28.329435                | 56.00824                 | 49.64483                 | 46.26166                 | \n",
       "| META                     | 53.856874                | 56.503879                | 72.04387                 | 71.16007                 | 58.47243                 | \n",
       "| NARIÑO                   | 28.781744                | 40.788151                | 52.60085                 | 52.86548                 | 35.00724                 | \n",
       "| NORTE DE SANTANDER       | 35.674352                | 51.303513                | 61.17783                 | 64.64712                 | 51.07067                 | \n",
       "| QUINDIO                  | 54.945366                | 47.608539                | 56.67583                 | 56.67753                 | 54.19296                 | \n",
       "| RISARALDA                | 52.101128                | 40.907531                | 52.96066                 | 52.99455                 | 52.31648                 | \n",
       "| SANTANDER                | 36.314212                | 59.916965                | 67.76801                 | 59.13006                 | 60.40892                 | \n",
       "| SUCRE                    | 25.524871                | 40.436481                | 57.87486                 | 48.62026                 | 49.01263                 | \n",
       "| TOLIMA                   | 40.993609                | 62.064365                | 66.76848                 | 70.71326                 | 57.56709                 | \n",
       "| VALLE DEL CAUCA          | 30.946204                | 64.769748                | 52.55505                 | 75.94093                 | 56.36251                 | \n",
       "| ARAUCA                   | 47.320505                | 35.667079                | 51.86618                 | 54.74373                 | 45.67899                 | \n",
       "| CASANARE                 | 40.632950                | 50.101411                | 64.93418                 | 64.69558                 | 51.83232                 | \n",
       "| PUTUMAYO                 | 27.017097                | 41.322309                | 46.55189                 | 53.72538                 | 41.48283                 | \n",
       "| SAN ANDRES Y PROVIDENCIA | 36.074791                | 58.396887                | 58.93001                 | 52.25395                 | 61.13113                 | \n",
       "| AMAZONAS                 | 19.585560                | 22.453929                | 44.82363                 | 53.82231                 | 35.89658                 | \n",
       "| GUAINIA                  |  4.179053                | 36.751620                | 33.26850                 | 66.63543                 | 35.92641                 | \n",
       "| GUAVIARE                 | 39.666285                | 32.828789                | 33.04913                 | 66.25101                 | 42.11854                 | \n",
       "| VAUPES                   | 23.965132                | 42.133147                | 33.30028                 | 66.66667                 | 40.97254                 | \n",
       "| VICHADA                  | 25.234072                | 37.461436                | 33.23622                 | 66.54332                 | 40.25450                 | \n",
       "\n",
       "\n"
      ],
      "text/plain": [
       "   Nombre_Departamento      ESS       ESJ       FSS      FSJ      IGI     \n",
       "1  ANTIOQUIA                15.737177 62.667357 40.11952 63.36174 47.69448\n",
       "2  ATLANTICO                29.763131 34.926158 69.35328 48.34637 50.08785\n",
       "3  BOGOTA D.C               39.558968 66.999560 84.44444 54.12590 54.47892\n",
       "4  BOLIVAR                  17.681686 46.165338 61.76776 52.28792 50.86102\n",
       "5  BOYACA                   37.517638 66.882427 83.74707 74.12930 62.54610\n",
       "6  CALDAS                   36.065591 53.949097 71.32097 65.92399 55.07199\n",
       "7  CAQUETA                  44.190981 48.349265 58.86477 67.12568 51.46563\n",
       "8  CAUCA                    26.812556 49.686521 64.37373 63.05087 48.26611\n",
       "9  CESAR                    25.516065 44.779872 68.44323 59.27420 46.33671\n",
       "10 CORDOBA                  18.065694 44.614519 55.31664 63.43141 48.82851\n",
       "11 CUNDINAMARCA             26.235853 51.737642 42.01559 63.97332 44.93869\n",
       "12 CHOCO                    38.925460 42.527816 61.29576 53.70257 54.55615\n",
       "13 HUILA                    51.940689 49.250467 61.05441 57.93675 55.05983\n",
       "14 LA GUAJIRA               19.992192  8.292501 56.21947 31.86252 33.77127\n",
       "15 MAGDALENA                25.092504 28.329435 56.00824 49.64483 46.26166\n",
       "16 META                     53.856874 56.503879 72.04387 71.16007 58.47243\n",
       "17 NARIÑO                   28.781744 40.788151 52.60085 52.86548 35.00724\n",
       "18 NORTE DE SANTANDER       35.674352 51.303513 61.17783 64.64712 51.07067\n",
       "19 QUINDIO                  54.945366 47.608539 56.67583 56.67753 54.19296\n",
       "20 RISARALDA                52.101128 40.907531 52.96066 52.99455 52.31648\n",
       "21 SANTANDER                36.314212 59.916965 67.76801 59.13006 60.40892\n",
       "22 SUCRE                    25.524871 40.436481 57.87486 48.62026 49.01263\n",
       "23 TOLIMA                   40.993609 62.064365 66.76848 70.71326 57.56709\n",
       "24 VALLE DEL CAUCA          30.946204 64.769748 52.55505 75.94093 56.36251\n",
       "25 ARAUCA                   47.320505 35.667079 51.86618 54.74373 45.67899\n",
       "26 CASANARE                 40.632950 50.101411 64.93418 64.69558 51.83232\n",
       "27 PUTUMAYO                 27.017097 41.322309 46.55189 53.72538 41.48283\n",
       "28 SAN ANDRES Y PROVIDENCIA 36.074791 58.396887 58.93001 52.25395 61.13113\n",
       "29 AMAZONAS                 19.585560 22.453929 44.82363 53.82231 35.89658\n",
       "30 GUAINIA                   4.179053 36.751620 33.26850 66.63543 35.92641\n",
       "31 GUAVIARE                 39.666285 32.828789 33.04913 66.25101 42.11854\n",
       "32 VAUPES                   23.965132 42.133147 33.30028 66.66667 40.97254\n",
       "33 VICHADA                  25.234072 37.461436 33.23622 66.54332 40.25450"
      ]
     },
     "metadata": {},
     "output_type": "display_data"
    }
   ],
   "source": [
    "resultado<-data.frame(cbind(d,ESS,ESJ,FSS,FSJ,IGI))\n",
    "r<-resultado[,c(\"Nombre_Departamento\",\"ESS\",\"ESJ\",\"FSS\",\"FSJ\",\"IGI\")]\n",
    "r"
   ]
  },
  {
   "cell_type": "code",
   "execution_count": 39,
   "metadata": {},
   "outputs": [
    {
     "data": {},
     "metadata": {},
     "output_type": "display_data"
    },
    {
     "data": {
      "image/png": "[encoded data removed]",
      "text/plain": [
       "plot without title"
      ]
     },
     "metadata": {},
     "output_type": "display_data"
    }
   ],
   "source": [
    "ggplot(r, aes(resultado$Nombre_Departamento,resultado$ESS))+geom_bar(stat = \"identity\")+theme(axis.text.x = element_text(angle = 90, hjust = 1))+xlab(\"Departamento\")+ylab(\"Valores\")+ggtitle(\"Estructural Sistema de Seguridad\")"
   ]
  },
  {
   "cell_type": "code",
   "execution_count": 40,
   "metadata": {},
   "outputs": [
    {
     "data": {},
     "metadata": {},
     "output_type": "display_data"
    },
    {
     "data": {
      "image/png": "[encoded data removed]",
      "text/plain": [
       "plot without title"
      ]
     },
     "metadata": {},
     "output_type": "display_data"
    }
   ],
   "source": [
    "ggplot(r, aes(resultado$Nombre_Departamento,resultado$ESS))+geom_bar(stat = \"identity\")+theme(axis.text.x = element_text(angle = 90, hjust = 1))+xlab(\"Departamento\")+ylab(\"Valores\")+ggtitle(\"Estructural Sistema de Justicia\")"
   ]
  },
  {
   "cell_type": "code",
   "execution_count": 41,
   "metadata": {},
   "outputs": [
    {
     "data": {},
     "metadata": {},
     "output_type": "display_data"
    },
    {
     "data": {
      "image/png": "[encoded data removed]",
      "text/plain": [
       "plot without title"
      ]
     },
     "metadata": {},
     "output_type": "display_data"
    }
   ],
   "source": [
    "ggplot(r, aes(resultado$Nombre_Departamento,resultado$ESS))+geom_bar(stat = \"identity\")+theme(axis.text.x = element_text(angle = 90, hjust = 1))+xlab(\"Departamento\")+ylab(\"Valores\")+ggtitle(\"Funcional Sistema de Seguridad\")"
   ]
  },
  {
   "cell_type": "code",
   "execution_count": 42,
   "metadata": {},
   "outputs": [
    {
     "data": {},
     "metadata": {},
     "output_type": "display_data"
    },
    {
     "data": {
      "image/png": "[encoded data removed]",
      "text/plain": [
       "plot without title"
      ]
     },
     "metadata": {},
     "output_type": "display_data"
    }
   ],
   "source": [
    "ggplot(r, aes(resultado$Nombre_Departamento,resultado$ESS))+geom_bar(stat = \"identity\")+theme(axis.text.x = element_text(angle = 90, hjust = 1))+xlab(\"Departamento\")+ylab(\"Valores\")+ggtitle(\"Funcional Sistema de Justicia\")"
   ]
  },
  {
   "cell_type": "code",
   "execution_count": 43,
   "metadata": {},
   "outputs": [
    {
     "data": {},
     "metadata": {},
     "output_type": "display_data"
    },
    {
     "data": {
      "image/png": "[encoded data removed]",
      "text/plain": [
       "plot without title"
      ]
     },
     "metadata": {},
     "output_type": "display_data"
    }
   ],
   "source": [
    "ggplot(r, aes(resultado$Nombre_Departamento,resultado$ESS))+geom_bar(stat = \"identity\")+theme(axis.text.x = element_text(angle = 90, hjust = 1))+xlab(\"Departamento\")+ylab(\"Valores\")+ggtitle(\"IGI\")"
   ]
  },
  {
   "cell_type": "code",
   "execution_count": null,
   "metadata": {},
   "outputs": [],
   "source": []
  }
 ],
 "metadata": {
  "kernelspec": {
   "display_name": "R",
   "language": "R",
   "name": "ir"
  },
  "language_info": {
   "codemirror_mode": "r",
   "file_extension": ".r",
   "mimetype": "text/x-r-source",
   "name": "R",
   "pygments_lexer": "r",
   "version": "3.5.1"
  }
 },
 "nbformat": 4,
 "nbformat_minor": 2
}
